{
 "cells": [
  {
   "cell_type": "markdown",
   "metadata": {},
   "source": [
    "# Commercial Card Portfolio Analysis\n",
    "\n",
    "**Objective**: Analyze commercial card portfolio performance, customer behavior, and identify growth opportunities\n",
    "\n",
    "**Key Areas**:\n",
    "- Portfolio performance metrics\n",
    "- Customer segmentation analysis  \n",
    "- Transaction pattern analysis\n",
    "- Geographic and category insights"
   ]
  },
  {
   "cell_type": "code",
   "execution_count": null,
   "metadata": {},
   "outputs": [],
   "source": [
    "import pandas as pd\n",
    "import numpy as np\n",
    "import matplotlib.pyplot as plt\n",
    "import seaborn as sns\n",
    "import plotly.express as px\n",
    "import plotly.graph_objects as go\n",
    "from plotly.subplots import make_subplots\n",
    "from datetime import datetime, timedelta\n",
    "import warnings\n",
    "warnings.filterwarnings('ignore')\n",
    "\n",
    "plt.style.use('seaborn-v0_8')\n",
    "sns.set_palette(\"husl\")"
   ]
  },
  {
   "cell_type": "markdown",
   "metadata": {},
   "source": [
    "## 1. Data Loading and Initial Exploration"
   ]
  },
  {
   "cell_type": "code",
   "execution_count": null,
   "metadata": {},
   "outputs": [],
   "source": [
    "transactions_df = pd.read_csv('../data/processed/transactions_processed.csv')\n",
    "customers_df = pd.read_csv('../data/processed/customers_enhanced.csv')\n",
    "campaigns_df = pd.read_csv('../data/processed/campaigns_summary.csv')\n",
    "\n",
    "print(f\"Transactions: {len(transactions_df):,} records\")\n",
    "print(f\"Customers: {len(customers_df):,} records\")\n",
    "print(f\"Campaigns: {len(campaigns_df):,} records\")\n",
    "\n",
    "transactions_df['transaction_date'] = pd.to_datetime(transactions_df['transaction_date'])\n",
    "customers_df['customer_since_date'] = pd.to_datetime(customers_df['customer_since_date'])"
   ]
  },
  {
   "cell_type": "markdown",
   "metadata": {},
   "source": [
    "## 2. Portfolio Performance Overview"
   ]
  },
  {
   "cell_type": "code",
   "execution_count": null,
   "metadata": {},
   "outputs": [],
   "source": [
    "monthly_performance = transactions_df.groupby(transactions_df['transaction_date'].dt.to_period('M')).agg({\n",
    "    'transaction_amount': ['sum', 'mean', 'count'],\n",
    "    'customer_id': 'nunique'\n",
    "}).round(2)\n",
    "\n",
    "monthly_performance.columns = ['Total_Spend', 'Avg_Transaction', 'Transaction_Count', 'Active_Customers']\n",
    "monthly_performance = monthly_performance.reset_index()\n",
    "monthly_performance['transaction_date'] = monthly_performance['transaction_date'].astype(str)\n",
    "\n",
    "fig = make_subplots(\n",
    "    rows=2, cols=2,\n",
    "    subplot_titles=('Monthly Total Spend', 'Monthly Active Customers', \n",
    "                   'Average Transaction Amount', 'Transaction Count'),\n",
    "    specs=[[{\"secondary_y\": False}, {\"secondary_y\": False}],\n",
    "           [{\"secondary_y\": False}, {\"secondary_y\": False}]]\n",
    ")\n",
    "\n",
    "fig.add_trace(go.Scatter(x=monthly_performance['transaction_date'], y=monthly_performance['Total_Spend'],\n",
    "                        name='Total Spend', line=dict(color='blue')), row=1, col=1)\n",
    "\n",
    "fig.add_trace(go.Scatter(x=monthly_performance['transaction_date'], y=monthly_performance['Active_Customers'],\n",
    "                        name='Active Customers', line=dict(color='green')), row=1, col=2)\n",
    "\n",
    "fig.add_trace(go.Scatter(x=monthly_performance['transaction_date'], y=monthly_performance['Avg_Transaction'],\n",
    "                        name='Avg Transaction', line=dict(color='red')), row=2, col=1)\n",
    "\n",
    "fig.add_trace(go.Scatter(x=monthly_performance['transaction_date'], y=monthly_performance['Transaction_Count'],\n",
    "                        name='Transaction Count', line=dict(color='purple')), row=2, col=2)\n",
    "\n",
    "fig.update_layout(height=600, title_text=\"Portfolio Performance Trends\", showlegend=False)\n",
    "fig.show()"
   ]
  },
  {
   "cell_type": "markdown",
   "metadata": {},
   "source": [
    "## 3. Customer Segmentation Analysis"
   ]
  },
  {
   "cell_type": "code",
   "execution_count": null,
   "metadata": {},
   "outputs": [],
   "source": [
    "segment_analysis = customers_df.groupby('customer_segment').agg({\n",
    "    'customer_id': 'count',\n",
    "    'total_spend': ['sum', 'mean'],\n",
    "    'avg_monthly_spend': 'mean',\n",
    "    'transaction_count': 'mean',\n",
    "    'credit_utilization': 'mean',\n",
    "    'customer_tenure_months': 'mean'\n",
    "}).round(2)\n",
    "\n",
    "segment_analysis.columns = ['Customer_Count', 'Total_Spend', 'Avg_Customer_Spend', \n",
    "                           'Avg_Monthly_Spend', 'Avg_Transactions', 'Avg_Utilization', 'Avg_Tenure']\n",
    "\n",
    "segment_analysis['Spend_Percentage'] = (segment_analysis['Total_Spend'] / segment_analysis['Total_Spend'].sum() * 100).round(1)\n",
    "segment_analysis['Customer_Percentage'] = (segment_analysis['Customer_Count'] / segment_analysis['Customer_Count'].sum() * 100).round(1)\n",
    "\n",
    "print(\"Customer Segment Performance:\")\n",
    "display(segment_analysis)\n",
    "\n",
    "fig, ((ax1, ax2), (ax3, ax4)) = plt.subplots(2, 2, figsize=(15, 10))\n",
    "\n",
    "segment_analysis['Customer_Percentage'].plot(kind='pie', ax=ax1, autopct='%1.1f%%')\n",
    "ax1.set_title('Customer Distribution by Segment')\n",
    "ax1.set_ylabel('')\n",
    "\n",
    "segment_analysis['Spend_Percentage'].plot(kind='pie', ax=ax2, autopct='%1.1f%%')\n",
    "ax2.set_title('Spend Distribution by Segment')\n",
    "ax2.set_ylabel('')\n",
    "\n",
    "segment_analysis['Avg_Customer_Spend'].plot(kind='bar', ax=ax3)\n",
    "ax3.set_title('Average Customer Spend by Segment')\n",
    "ax3.set_ylabel('Spend ($)')\n",
    "ax3.tick_params(axis='x', rotation=45)\n",
    "\n",
    "segment_analysis['Avg_Utilization'].plot(kind='bar', ax=ax4, color='orange')\n",
    "ax4.set_title('Average Credit Utilization by Segment')\n",
    "ax4.set_ylabel('Utilization (%)')\n",
    "ax4.tick_params(axis='x', rotation=45)\n",
    "\n",
    "plt.tight_layout()\n",
    "plt.show()"
   ]
  },
  {
   "cell_type": "markdown",
   "metadata": {},
   "source": [
    "## 4. Transaction Pattern Analysis"
   ]
  },
  {
   "cell_type": "code",
   "execution_count": null,
   "metadata": {},
   "outputs": [],
   "source": [
    "category_analysis = transactions_df.groupby('merchant_category').agg({\n",
    "    'transaction_amount': ['sum', 'mean', 'count'],\n",
    "    'customer_id': 'nunique'\n",
    "}).round(2)\n",
    "\n",
    "category_analysis.columns = ['Total_Spend', 'Avg_Transaction', 'Transaction_Count', 'Unique_Customers']\n",
    "category_analysis = category_analysis.sort_values('Total_Spend', ascending=False)\n",
    "category_analysis['Spend_Percentage'] = (category_analysis['Total_Spend'] / category_analysis['Total_Spend'].sum() * 100).round(1)\n",
    "\n",
    "print(\"Top 10 Merchant Categories by Spend:\")\n",
    "display(category_analysis.head(10))\n",
    "\n",
    "fig, (ax1, ax2) = plt.subplots(1, 2, figsize=(15, 6))\n",
    "\n",
    "top_categories = category_analysis.head(10)\n",
    "top_categories['Total_Spend'].plot(kind='barh', ax=ax1)\n",
    "ax1.set_title('Top 10 Categories by Total Spend')\n",
    "ax1.set_xlabel('Total Spend ($)')\n",
    "\n",
    "top_categories['Avg_Transaction'].plot(kind='barh', ax=ax2, color='green')\n",
    "ax2.set_title('Top 10 Categories by Average Transaction')\n",
    "ax2.set_xlabel('Average Transaction ($)')\n",
    "\n",
    "plt.tight_layout()\n",
    "plt.show()"
   ]
  },
  {
   "cell_type": "markdown",
   "metadata": {},
   "source": [
    "## 5. Geographic Analysis"
   ]
  },
  {
   "cell_type": "code",
   "execution_count": null,
   "metadata": {},
   "outputs": [],
   "source": [
    "geo_analysis = customers_df.groupby('geographic_region').agg({\n",
    "    'customer_id': 'count',\n",
    "    'total_spend': ['sum', 'mean'],\n",
    "    'avg_monthly_spend': 'mean',\n",
    "    'credit_utilization': 'mean'\n",
    "}).round(2)\n",
    "\n",
    "geo_analysis.columns = ['Customer_Count', 'Total_Spend', 'Avg_Customer_Spend', 'Avg_Monthly_Spend', 'Avg_Utilization']\n",
    "geo_analysis = geo_analysis.sort_values('Total_Spend', ascending=False)\n",
    "\n",
    "print(\"Geographic Performance Analysis:\")\n",
    "display(geo_analysis)\n",
    "\n",
    "fig = px.bar(geo_analysis.reset_index(), x='geographic_region', y='Total_Spend',\n",
    "             title='Total Spend by Geographic Region',\n",
    "             labels={'Total_Spend': 'Total Spend ($)', 'geographic_region': 'Region'})\n",
    "fig.show()\n",
    "\n",
    "fig2 = px.scatter(geo_analysis.reset_index(), x='Customer_Count', y='Avg_Customer_Spend',\n",
    "                 size='Total_Spend', hover_name='geographic_region',\n",
    "                 title='Customer Count vs Average Spend by Region',\n",
    "                 labels={'Customer_Count': 'Number of Customers', 'Avg_Customer_Spend': 'Average Customer Spend ($)'})\n",
    "fig2.show()"
   ]
  },
  {
   "cell_type": "markdown",
   "metadata": {},
   "source": [
    "## 6. Customer Lifetime Value Analysis"
   ]
  },
  {
   "cell_type": "code",
   "execution_count": null,
   "metadata": {},
   "outputs": [],
   "source": [
    "customers_df['clv_quartile'] = pd.qcut(customers_df['total_spend'], 4, labels=['Q1', 'Q2', 'Q3', 'Q4'])\n",
    "\n",
    "clv_analysis = customers_df.groupby('clv_quartile').agg({\n",
    "    'customer_id': 'count',\n",
    "    'total_spend': ['sum', 'mean'],\n",
    "    'customer_tenure_months': 'mean',\n",
    "    'transaction_count': 'mean',\n",
    "    'avg_monthly_spend': 'mean'\n",
    "}).round(2)\n",
    "\n",
    "clv_analysis.columns = ['Customer_Count', 'Total_Spend', 'Avg_CLV', 'Avg_Tenure', 'Avg_Transactions', 'Avg_Monthly_Spend']\n",
    "clv_analysis['CLV_Contribution'] = (clv_analysis['Total_Spend'] / clv_analysis['Total_Spend'].sum() * 100).round(1)\n",
    "\n",
    "print(\"Customer Lifetime Value Analysis:\")\n",
    "display(clv_analysis)\n",
    "\n",
    "fig, ((ax1, ax2), (ax3, ax4)) = plt.subplots(2, 2, figsize=(15, 10))\n",
    "\n",
    "clv_analysis['CLV_Contribution'].plot(kind='bar', ax=ax1, color='skyblue')\n",
    "ax1.set_title('CLV Contribution by Quartile (%)')\n",
    "ax1.set_ylabel('Contribution (%)')\n",
    "ax1.tick_params(axis='x', rotation=0)\n",
    "\n",
    "clv_analysis['Avg_CLV'].plot(kind='bar', ax=ax2, color='lightcoral')\n",
    "ax2.set_title('Average CLV by Quartile')\n",
    "ax2.set_ylabel('Average CLV ($)')\n",
    "ax2.tick_params(axis='x', rotation=0)\n",
    "\n",
    "clv_analysis['Avg_Tenure'].plot(kind='bar', ax=ax3, color='lightgreen')\n",
    "ax3.set_title('Average Tenure by CLV Quartile')\n",
    "ax3.set_ylabel('Tenure (Months)')\n",
    "ax3.tick_params(axis='x', rotation=0)\n",
    "\n",
    "clv_analysis['Avg_Monthly_Spend'].plot(kind='bar', ax=ax4, color='gold')\n",
    "ax4.set_title('Average Monthly Spend by CLV Quartile')\n",
    "ax4.set_ylabel('Monthly Spend ($)')\n",
    "ax4.tick_params(axis='x', rotation=0)\n",
    "\n",
    "plt.tight_layout()\n",
    "plt.show()"
   ]
  },
  {
   "cell_type": "markdown",
   "metadata": {},
   "source": [
    "## 7. Key Insights and Recommendations"
   ]
  },
  {
   "cell_type": "code",
   "execution_count": null,
   "metadata": {},
   "outputs": [],
   "source": [
    "insights = {\n",
    "    'Portfolio Size': f\"{len(customers_df):,} active customers\",\n",
    "    'Total Portfolio Spend': f\"${customers_df['total_spend'].sum()/1e6:.1f}M\",\n",
    "    'Average Customer Value': f\"${customers_df['total_spend'].mean():.0f}\",\n",
    "    'Top Segment by Spend': segment_analysis.index[0],\n",
    "    'Top Geographic Region': geo_analysis.index[0],\n",
    "    'Top Category by Volume': category_analysis.index[0],\n",
    "    'High Value Customers (Q4)': f\"{clv_analysis.loc['Q4', 'CLV_Contribution']:.1f}% of total spend\",\n",
    "    'Average Credit Utilization': f\"{customers_df['credit_utilization'].mean():.1f}%\"\n",
    "}\n",
    "\n",
    "print(\"=\" * 50)\n",
    "print(\"KEY PORTFOLIO INSIGHTS\")\n",
    "print(\"=\" * 50)\n",
    "for key, value in insights.items():\n",
    "    print(f\"{key}: {value}\")\n",
    "\n",
    "print(\"\\n\" + \"=\" * 50)\n",
    "print(\"STRATEGIC RECOMMENDATIONS\")\n",
    "print(\"=\" * 50)\n",
    "print(\"1. Focus retention efforts on Q4 customers (high-value segment)\")\n",
    "print(\"2. Expand marketing in top-performing geographic regions\")\n",
    "print(\"3. Develop category-specific rewards for top spending categories\")\n",
    "print(\"4. Implement credit limit optimization for underutilized customers\")\n",
    "print(\"5. Create targeted cross-sell campaigns for single-product customers\")\n",
    "print(\"6. Develop early warning system for churn prevention\")\n",
    "print(\"7. Optimize pricing strategy based on customer segment performance\")"
   ]
  }
 ],
 "metadata": {
  "kernelspec": {
   "display_name": "Python 3",
   "language": "python",
   "name": "python3"
  },
  "language_info": {
   "codemirror_mode": {
    "name": "ipython",
    "version": 3
   },
   "file_extension": ".py",
   "mimetype": "text/x-python",
   "name": "python",
   "nbconvert_exporter": "python",
   "pygments_lexer": "ipython3",
   "version": "3.8.5"
  }
 },
 "nbformat": 4,
 "nbformat_minor": 4
}
